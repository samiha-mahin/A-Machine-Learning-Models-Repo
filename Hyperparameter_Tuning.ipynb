{
  "nbformat": 4,
  "nbformat_minor": 0,
  "metadata": {
    "colab": {
      "provenance": [],
      "authorship_tag": "ABX9TyPfi336N8JpPR34BnjWouDY",
      "include_colab_link": true
    },
    "kernelspec": {
      "name": "python3",
      "display_name": "Python 3"
    },
    "language_info": {
      "name": "python"
    }
  },
  "cells": [
    {
      "cell_type": "markdown",
      "metadata": {
        "id": "view-in-github",
        "colab_type": "text"
      },
      "source": [
        "<a href=\"https://colab.research.google.com/github/samiha-mahin/A-Machine-Learning-Models-Repo/blob/main/Hyperparameter_Tuning.ipynb\" target=\"_parent\"><img src=\"https://colab.research.google.com/assets/colab-badge.svg\" alt=\"Open In Colab\"/></a>"
      ]
    },
    {
      "cell_type": "markdown",
      "source": [
        "\n",
        "\n",
        "## 🌟 What is Hyperparameter Tuning?\n",
        "\n",
        "**Hyperparameters** are settings **you choose before training** a machine learning model. They are not learned from the data — you set them manually.\n",
        "\n",
        "**Hyperparameter tuning** means trying different combinations of these settings to find the **best performance** of your model.\n",
        "\n",
        "---\n",
        "\n",
        "## ✅ Example: Random Forest\n",
        "\n",
        "Let’s say you're using `RandomForestClassifier`. Some common hyperparameters are:\n",
        "\n",
        "| Hyperparameter      | Meaning                                   |\n",
        "| ------------------- | ----------------------------------------- |\n",
        "| `n_estimators`      | Number of trees in the forest             |\n",
        "| `max_depth`         | Maximum depth of each tree                |\n",
        "| `min_samples_split` | Minimum samples to split an internal node |\n",
        "\n",
        "You need to **tune** these values to get the best results.\n",
        "\n",
        "---\n",
        "\n",
        "## 🎯 Why Tune Them?\n",
        "\n",
        "Because the **wrong values** may cause:\n",
        "\n",
        "* **Underfitting** (too simple)\n",
        "* **Overfitting** (too complex)\n",
        "* **Slow training** (too many trees, deep trees)\n",
        "\n",
        "---\n",
        "\n",
        "## ⚙️ How Do We Tune?\n",
        "\n",
        "### 1. **Manual Search**\n",
        "\n",
        "You try values one by one.\n",
        "\n",
        "```python\n",
        "from sklearn.ensemble import RandomForestClassifier\n",
        "\n",
        "model = RandomForestClassifier(n_estimators=100, max_depth=5)\n",
        "model.fit(X_train, y_train)\n",
        "```\n",
        "\n",
        "➡️ Try `n_estimators = 50`, `100`, `150`... and see which one works best.\n",
        "\n",
        "---\n",
        "\n",
        "### 2. **Grid Search (Best Practice)**\n",
        "\n",
        "It automatically tries **all combinations** of hyperparameter values.\n",
        "\n",
        "```python\n",
        "from sklearn.model_selection import GridSearchCV\n",
        "\n",
        "param_grid = {\n",
        "    'n_estimators': [50, 100, 150],\n",
        "    'max_depth': [3, 5, 10]\n",
        "}\n",
        "\n",
        "grid = GridSearchCV(RandomForestClassifier(), param_grid, cv=5)\n",
        "grid.fit(X_train, y_train)\n",
        "\n",
        "print(\"Best Parameters:\", grid.best_params_)\n",
        "```\n",
        "\n",
        "---\n",
        "\n",
        "### 3. **Randomized Search (Faster)**\n",
        "\n",
        "Instead of trying all combinations, it tries **random combinations**.\n",
        "\n",
        "```python\n",
        "from sklearn.model_selection import RandomizedSearchCV\n",
        "\n",
        "param_dist = {\n",
        "    'n_estimators': [50, 100, 150, 200],\n",
        "    'max_depth': [3, 5, 10, 20]\n",
        "}\n",
        "\n",
        "random_search = RandomizedSearchCV(RandomForestClassifier(), param_distributions=param_dist, n_iter=5)\n",
        "random_search.fit(X_train, y_train)\n",
        "\n",
        "print(\"Best Parameters:\", random_search.best_params_)\n",
        "```\n",
        "\n",
        "---\n",
        "\n",
        "## 🔁 Summary\n",
        "\n",
        "| Method            | Tries All | Faster | Best For         |\n",
        "| ----------------- | --------- | ------ | ---------------- |\n",
        "| Manual Search     | ❌         | ✅      | Small tests      |\n",
        "| Grid Search       | ✅         | ❌      | Full exploration |\n",
        "| Randomized Search | ❌         | ✅      | Large grids      |\n",
        "\n",
        "\n"
      ],
      "metadata": {
        "id": "G8XTjtAwL8mA"
      }
    },
    {
      "cell_type": "markdown",
      "source": [],
      "metadata": {
        "id": "9_J2psuVMMpL"
      }
    },
    {
      "cell_type": "code",
      "execution_count": null,
      "metadata": {
        "id": "rrXWISrSgGdN"
      },
      "outputs": [],
      "source": []
    }
  ]
}