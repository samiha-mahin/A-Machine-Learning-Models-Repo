{
  "nbformat": 4,
  "nbformat_minor": 0,
  "metadata": {
    "colab": {
      "provenance": [],
      "authorship_tag": "ABX9TyPpP5B7IGjd1+y0U3Nf07dz",
      "include_colab_link": true
    },
    "kernelspec": {
      "name": "python3",
      "display_name": "Python 3"
    },
    "language_info": {
      "name": "python"
    }
  },
  "cells": [
    {
      "cell_type": "markdown",
      "metadata": {
        "id": "view-in-github",
        "colab_type": "text"
      },
      "source": [
        "<a href=\"https://colab.research.google.com/github/samiha-mahin/A-Machine-Learning-Models-Repo/blob/main/Bias_Variance.ipynb\" target=\"_parent\"><img src=\"https://colab.research.google.com/assets/colab-badge.svg\" alt=\"Open In Colab\"/></a>"
      ]
    },
    {
      "cell_type": "markdown",
      "source": [
        "\n",
        "\n",
        "### 🎯 What is Bias?\n",
        "\n",
        "**Bias** is the error from **wrong assumptions** in the learning algorithm.\n",
        "\n",
        "* High bias = Model is **too simple**.\n",
        "* It **underfits** the data.\n",
        "* It **misses important patterns**.\n",
        "\n",
        "#### 📌 Example of High Bias:\n",
        "\n",
        "Imagine you’re trying to predict house prices using just the number of bedrooms — but ignoring location, size, and condition.\n",
        "\n",
        "* Your predictions will be consistently off.\n",
        "* Why? The model is **too simple** (assumes only bedrooms matter).\n",
        "\n",
        "➡️ This is **high bias**.\n",
        "\n",
        "---\n",
        "\n",
        "### 📈 What is Variance?\n",
        "\n",
        "**Variance** is the error from the model being **too sensitive** to small changes in the training data.\n",
        "\n",
        "* High variance = Model is **too complex**.\n",
        "* It **overfits** the data.\n",
        "* Learns noise as if it were a pattern.\n",
        "\n",
        "#### 📌 Example of High Variance:\n",
        "\n",
        "You build a model using **all features** (bedrooms, size, location, flooring type, nearby schools, paint color...).\n",
        "\n",
        "* Your model performs **perfectly on training data**.\n",
        "* But on new data, it performs poorly — it **overreacts** to small details.\n",
        "\n",
        "➡️ This is **high variance**.\n",
        "\n",
        "\n",
        "---\n",
        "\n",
        "### 📚 Real-Life ML Example\n",
        "\n",
        "Suppose you're building a model to classify fruits by weight and color.\n",
        "\n",
        "* **High Bias**: You use only weight → misclassifies apples and tomatoes (ignores color).\n",
        "* **High Variance**: You use weight, color, texture, label font on the packaging → model fits training set perfectly but performs badly on test data.\n",
        "\n",
        "---\n",
        "\n",
        "### ⚖️ Bias-Variance Tradeoff\n",
        "\n",
        "* You need to **balance** bias and variance.\n",
        "* A good model has **low bias and low variance** → not too simple, not too complex.\n",
        "\n"
      ],
      "metadata": {
        "id": "r2wP9xXetXt9"
      }
    }
  ]
}