{
  "nbformat": 4,
  "nbformat_minor": 0,
  "metadata": {
    "colab": {
      "provenance": [],
      "authorship_tag": "ABX9TyOu8jL4Zdii84HkWDY6p11r",
      "include_colab_link": true
    },
    "kernelspec": {
      "name": "python3",
      "display_name": "Python 3"
    },
    "language_info": {
      "name": "python"
    }
  },
  "cells": [
    {
      "cell_type": "markdown",
      "metadata": {
        "id": "view-in-github",
        "colab_type": "text"
      },
      "source": [
        "<a href=\"https://colab.research.google.com/github/samiha-mahin/A-Machine-Learning-Models-Repo/blob/main/CatBoost.ipynb\" target=\"_parent\"><img src=\"https://colab.research.google.com/assets/colab-badge.svg\" alt=\"Open In Colab\"/></a>"
      ]
    },
    {
      "cell_type": "markdown",
      "source": [
        "#**CatBoost**\n",
        "\n",
        "## 🌟 What is CatBoost?\n",
        "\n",
        "**CatBoost** stands for **\"Categorical Boosting.\"**\n",
        "It’s a type of **gradient boosting** algorithm, just like XGBoost and LightGBM —\n",
        "but it’s **specially designed to handle categorical features** (like names, colors, job titles, etc.) automatically and **beautifully**.\n",
        "\n",
        "---\n",
        "\n",
        "## 🏡 Real-Life Example: Predicting Car Prices\n",
        "\n",
        "Let’s say you’re building a model to predict car prices using:\n",
        "\n",
        "* Brand (`Toyota`, `BMW`, `Ford`)\n",
        "* Fuel type (`Petrol`, `Diesel`, `Electric`)\n",
        "* Year\n",
        "* Engine size\n",
        "* Transmission (`Manual`, `Automatic`)\n",
        "\n",
        "🔸 Most ML models struggle with the **text-type features** (brand, fuel, transmission).\n",
        "You have to convert them using tricks like One-Hot or Label Encoding manually.\n",
        "\n",
        "But...\n",
        "\n",
        "> 💖 **CatBoost handles these text (categorical) features automatically and smartly!** No need for manual encoding.\n",
        "\n",
        "---\n",
        "\n",
        "## 🧠 How CatBoost Works (Easily):\n",
        "\n",
        "Just like Gradient Boosting:\n",
        "\n",
        "1. Start with a simple prediction (like average price).\n",
        "2. Find the **errors** (residuals).\n",
        "3. Build a small tree to predict those errors.\n",
        "4. Add that tree’s predictions to improve the model.\n",
        "5. Repeat this many times.\n",
        "\n",
        "BUT CatBoost adds **two special powers**:\n",
        "\n",
        "---\n",
        "\n",
        "### 🔮 1. Categorical Feature Magic ✨\n",
        "\n",
        "* It **automatically understands categorical features** without you doing any encoding!\n",
        "* It converts them using **statistics** (like how brand affects price), not dummy variables.\n",
        "\n",
        "---\n",
        "\n",
        "### 🛡️ 2. Overfitting Protection\n",
        "\n",
        "* CatBoost uses a smart technique called **Ordered Boosting** to prevent the model from memorizing the training data too much.\n",
        "* Result: **Better generalization** on test data!\n",
        "\n",
        "---\n",
        "\n",
        "## 🚀 Advantages of CatBoost\n",
        "\n",
        "| Feature                     | Why It’s Great for You                            |\n",
        "| --------------------------- | ------------------------------------------------- |\n",
        "| 🐱 Handles Categorical Data | No need to encode — saves time and effort         |\n",
        "| 🚀 Fast and Accurate        | Competes with LightGBM and XGBoost in speed       |\n",
        "| 🛡️ Less Overfitting        | Smart tricks reduce the chance of bad predictions |\n",
        "| 🧹 Clean Workflow           | Works great even with messy data                  |\n",
        "\n",
        "---\n",
        "\n",
        "## ✅ When Should You Use CatBoost?\n",
        "\n",
        "* You have **lots of categorical features** (like cities, brands, types).\n",
        "* You want **high accuracy** with **minimal data preprocessing**.\n",
        "* You’re dealing with **tabular data** (rows and columns).\n",
        "* You want a **plug-and-play model** with less manual work.\n",
        "\n",
        "---\n",
        "\n",
        "## 💡 Summary Table (Super Simple)\n",
        "\n",
        "| Concept              | CatBoost Magic                                 |\n",
        "| -------------------- | ---------------------------------------------- |\n",
        "| Model Type           | Gradient Boosting                              |\n",
        "| Special Skill        | Auto-handling of categorical features 🐱       |\n",
        "| Overfitting Control  | Yes (ordered boosting)                         |\n",
        "| Accuracy             | Very high                                      |\n",
        "| Speed                | Fast (a bit slower than LightGBM, but cleaner) |\n",
        "| Preprocessing Needed | Very little (just give it raw data!)           |\n",
        "\n",
        "---\n",
        "\n",
        "## 🔁 CatBoost vs XGBoost vs LightGBM (Quick View)\n",
        "\n",
        "| Feature            | XGBoost     | LightGBM      | **CatBoost**       |\n",
        "| ------------------ | ----------- | ------------- | ------------------ |\n",
        "| Handles Categories | ❌ No        | ❌ No          | ✅ **Yes**          |\n",
        "| Speed              | Fast        | **Very Fast** | Medium-Fast        |\n",
        "| Accuracy           | High        | High          | **Very High**      |\n",
        "| Overfitting        | Can overfit | Can overfit   | ✅ Less overfitting |\n",
        "\n",
        "\n"
      ],
      "metadata": {
        "id": "pbE9YuONlyc4"
      }
    },
    {
      "cell_type": "markdown",
      "source": [
        "# **CatBoost on Titanic Dataset**"
      ],
      "metadata": {
        "id": "l3aSDTaTmF2B"
      }
    },
    {
      "cell_type": "code",
      "metadata": {
        "colab": {
          "base_uri": "https://localhost:8080/"
        },
        "id": "b9d1a014",
        "outputId": "98101718-1d6c-42df-ff88-0c03d8d86192"
      },
      "source": [
        "%pip install catboost"
      ],
      "execution_count": 2,
      "outputs": [
        {
          "output_type": "stream",
          "name": "stdout",
          "text": [
            "Collecting catboost\n",
            "  Downloading catboost-1.2.8-cp311-cp311-manylinux2014_x86_64.whl.metadata (1.2 kB)\n",
            "Requirement already satisfied: graphviz in /usr/local/lib/python3.11/dist-packages (from catboost) (0.20.3)\n",
            "Requirement already satisfied: matplotlib in /usr/local/lib/python3.11/dist-packages (from catboost) (3.10.0)\n",
            "Requirement already satisfied: numpy<3.0,>=1.16.0 in /usr/local/lib/python3.11/dist-packages (from catboost) (2.0.2)\n",
            "Requirement already satisfied: pandas>=0.24 in /usr/local/lib/python3.11/dist-packages (from catboost) (2.2.2)\n",
            "Requirement already satisfied: scipy in /usr/local/lib/python3.11/dist-packages (from catboost) (1.15.3)\n",
            "Requirement already satisfied: plotly in /usr/local/lib/python3.11/dist-packages (from catboost) (5.24.1)\n",
            "Requirement already satisfied: six in /usr/local/lib/python3.11/dist-packages (from catboost) (1.17.0)\n",
            "Requirement already satisfied: python-dateutil>=2.8.2 in /usr/local/lib/python3.11/dist-packages (from pandas>=0.24->catboost) (2.9.0.post0)\n",
            "Requirement already satisfied: pytz>=2020.1 in /usr/local/lib/python3.11/dist-packages (from pandas>=0.24->catboost) (2025.2)\n",
            "Requirement already satisfied: tzdata>=2022.7 in /usr/local/lib/python3.11/dist-packages (from pandas>=0.24->catboost) (2025.2)\n",
            "Requirement already satisfied: contourpy>=1.0.1 in /usr/local/lib/python3.11/dist-packages (from matplotlib->catboost) (1.3.2)\n",
            "Requirement already satisfied: cycler>=0.10 in /usr/local/lib/python3.11/dist-packages (from matplotlib->catboost) (0.12.1)\n",
            "Requirement already satisfied: fonttools>=4.22.0 in /usr/local/lib/python3.11/dist-packages (from matplotlib->catboost) (4.58.1)\n",
            "Requirement already satisfied: kiwisolver>=1.3.1 in /usr/local/lib/python3.11/dist-packages (from matplotlib->catboost) (1.4.8)\n",
            "Requirement already satisfied: packaging>=20.0 in /usr/local/lib/python3.11/dist-packages (from matplotlib->catboost) (24.2)\n",
            "Requirement already satisfied: pillow>=8 in /usr/local/lib/python3.11/dist-packages (from matplotlib->catboost) (11.2.1)\n",
            "Requirement already satisfied: pyparsing>=2.3.1 in /usr/local/lib/python3.11/dist-packages (from matplotlib->catboost) (3.2.3)\n",
            "Requirement already satisfied: tenacity>=6.2.0 in /usr/local/lib/python3.11/dist-packages (from plotly->catboost) (9.1.2)\n",
            "Downloading catboost-1.2.8-cp311-cp311-manylinux2014_x86_64.whl (99.2 MB)\n",
            "\u001b[2K   \u001b[90m━━━━━━━━━━━━━━━━━━━━━━━━━━━━━━━━━━━━━━━━\u001b[0m \u001b[32m99.2/99.2 MB\u001b[0m \u001b[31m9.4 MB/s\u001b[0m eta \u001b[36m0:00:00\u001b[0m\n",
            "\u001b[?25hInstalling collected packages: catboost\n",
            "Successfully installed catboost-1.2.8\n"
          ]
        }
      ]
    },
    {
      "cell_type": "code",
      "metadata": {
        "colab": {
          "base_uri": "https://localhost:8080/"
        },
        "id": "876ca4cb",
        "outputId": "a132be6e-8d72-4845-bc6b-f23db7180683"
      },
      "source": [
        "# Import libraries\n",
        "import pandas as pd\n",
        "from sklearn.model_selection import train_test_split\n",
        "from sklearn.metrics import accuracy_score\n",
        "from catboost import CatBoostClassifier\n",
        "\n",
        "# Load Titanic dataset\n",
        "data = pd.read_csv('/content/titanic.csv')\n",
        "\n",
        "# Select features and target\n",
        "features = ['Pclass', 'Sex', 'Age', 'SibSp', 'Parch', 'Fare', 'Embarked']\n",
        "X = data[features]\n",
        "y = data['Survived']\n",
        "\n",
        "# Handle missing values\n",
        "X['Age'].fillna(X['Age'].mean(), inplace=True)\n",
        "X['Embarked'].fillna(X['Embarked'].mode()[0], inplace=True)\n",
        "\n",
        "# Split data\n",
        "X_train, X_test, y_train, y_test = train_test_split(X, y, test_size=0.2, random_state=42)\n",
        "\n",
        "# Identify categorical features (CatBoost needs column indices, not names)\n",
        "# CatBoost can handle categorical features by name if you pass them as a list of strings\n",
        "cat_features = ['Pclass', 'Sex', 'Embarked']\n",
        "\n",
        "\n",
        "# Initialize CatBoostClassifier\n",
        "model = CatBoostClassifier(\n",
        "    iterations=100,\n",
        "    learning_rate=0.1,\n",
        "    depth=6,\n",
        "    cat_features=cat_features,\n",
        "    verbose=0,  # Set to 100 to see training output\n",
        "    random_state=42\n",
        ")\n",
        "\n",
        "# Train model\n",
        "model.fit(X_train, y_train)\n",
        "\n",
        "# Predict and evaluate\n",
        "y_pred = model.predict(X_test)\n",
        "accuracy = accuracy_score(y_test, y_pred)\n",
        "print(f\"CatBoost Accuracy on Titanic: {accuracy:.2f}\")"
      ],
      "execution_count": 3,
      "outputs": [
        {
          "output_type": "stream",
          "name": "stderr",
          "text": [
            "<ipython-input-3-e76087b40675>:16: FutureWarning: A value is trying to be set on a copy of a DataFrame or Series through chained assignment using an inplace method.\n",
            "The behavior will change in pandas 3.0. This inplace method will never work because the intermediate object on which we are setting values always behaves as a copy.\n",
            "\n",
            "For example, when doing 'df[col].method(value, inplace=True)', try using 'df.method({col: value}, inplace=True)' or df[col] = df[col].method(value) instead, to perform the operation inplace on the original object.\n",
            "\n",
            "\n",
            "  X['Age'].fillna(X['Age'].mean(), inplace=True)\n",
            "<ipython-input-3-e76087b40675>:16: SettingWithCopyWarning: \n",
            "A value is trying to be set on a copy of a slice from a DataFrame\n",
            "\n",
            "See the caveats in the documentation: https://pandas.pydata.org/pandas-docs/stable/user_guide/indexing.html#returning-a-view-versus-a-copy\n",
            "  X['Age'].fillna(X['Age'].mean(), inplace=True)\n",
            "<ipython-input-3-e76087b40675>:17: FutureWarning: A value is trying to be set on a copy of a DataFrame or Series through chained assignment using an inplace method.\n",
            "The behavior will change in pandas 3.0. This inplace method will never work because the intermediate object on which we are setting values always behaves as a copy.\n",
            "\n",
            "For example, when doing 'df[col].method(value, inplace=True)', try using 'df.method({col: value}, inplace=True)' or df[col] = df[col].method(value) instead, to perform the operation inplace on the original object.\n",
            "\n",
            "\n",
            "  X['Embarked'].fillna(X['Embarked'].mode()[0], inplace=True)\n",
            "<ipython-input-3-e76087b40675>:17: SettingWithCopyWarning: \n",
            "A value is trying to be set on a copy of a slice from a DataFrame\n",
            "\n",
            "See the caveats in the documentation: https://pandas.pydata.org/pandas-docs/stable/user_guide/indexing.html#returning-a-view-versus-a-copy\n",
            "  X['Embarked'].fillna(X['Embarked'].mode()[0], inplace=True)\n"
          ]
        },
        {
          "output_type": "stream",
          "name": "stdout",
          "text": [
            "CatBoost Accuracy on Titanic: 0.80\n"
          ]
        }
      ]
    }
  ]
}